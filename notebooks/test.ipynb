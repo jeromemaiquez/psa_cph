{
 "cells": [
  {
   "cell_type": "code",
   "execution_count": 1,
   "metadata": {},
   "outputs": [],
   "source": [
    "import pandas as pd\n",
    "import numpy as np\n",
    "import geopandas as gpd\n",
    "\n",
    "import pathlib as plb"
   ]
  },
  {
   "cell_type": "code",
   "execution_count": 3,
   "metadata": {},
   "outputs": [],
   "source": [
    "WORK_DIRECTORY = plb.Path().resolve()\n",
    "DATA_DIRECTORY = WORK_DIRECTORY.parent / \"data\"\n",
    "HH_DIRECTORY = DATA_DIRECTORY / \"Form 2\""
   ]
  },
  {
   "cell_type": "code",
   "execution_count": 4,
   "metadata": {},
   "outputs": [
    {
     "data": {
      "text/plain": [
       "[WindowsPath('D:/WORK/ONLINE COURSES/MINI-PROJECTS/psa_cph/data/Form 2/Region 1 ILOCOS'),\n",
       " WindowsPath('D:/WORK/ONLINE COURSES/MINI-PROJECTS/psa_cph/data/Form 2/Region 10 NORTHERN MINDANAO'),\n",
       " WindowsPath('D:/WORK/ONLINE COURSES/MINI-PROJECTS/psa_cph/data/Form 2/Region 11 DAVAO'),\n",
       " WindowsPath('D:/WORK/ONLINE COURSES/MINI-PROJECTS/psa_cph/data/Form 2/Region 12 SOCCSKSARGEN'),\n",
       " WindowsPath('D:/WORK/ONLINE COURSES/MINI-PROJECTS/psa_cph/data/Form 2/Region 13 NCR'),\n",
       " WindowsPath('D:/WORK/ONLINE COURSES/MINI-PROJECTS/psa_cph/data/Form 2/Region 14 CAR'),\n",
       " WindowsPath('D:/WORK/ONLINE COURSES/MINI-PROJECTS/psa_cph/data/Form 2/Region 15 ARMM'),\n",
       " WindowsPath('D:/WORK/ONLINE COURSES/MINI-PROJECTS/psa_cph/data/Form 2/Region 16 CARAGA'),\n",
       " WindowsPath('D:/WORK/ONLINE COURSES/MINI-PROJECTS/psa_cph/data/Form 2/Region 2 CAGAYAN VALLEY'),\n",
       " WindowsPath('D:/WORK/ONLINE COURSES/MINI-PROJECTS/psa_cph/data/Form 2/Region 3 CENTRAL LUZON'),\n",
       " WindowsPath('D:/WORK/ONLINE COURSES/MINI-PROJECTS/psa_cph/data/Form 2/Region 4A CALABARZON'),\n",
       " WindowsPath('D:/WORK/ONLINE COURSES/MINI-PROJECTS/psa_cph/data/Form 2/Region 4B MIMAROPA'),\n",
       " WindowsPath('D:/WORK/ONLINE COURSES/MINI-PROJECTS/psa_cph/data/Form 2/Region 5 BICOL'),\n",
       " WindowsPath('D:/WORK/ONLINE COURSES/MINI-PROJECTS/psa_cph/data/Form 2/Region 6 WESTERN VISAYAS'),\n",
       " WindowsPath('D:/WORK/ONLINE COURSES/MINI-PROJECTS/psa_cph/data/Form 2/Region 7 CENTRAL VISAYAS'),\n",
       " WindowsPath('D:/WORK/ONLINE COURSES/MINI-PROJECTS/psa_cph/data/Form 2/Region 8 EASTERN VISAYAS'),\n",
       " WindowsPath('D:/WORK/ONLINE COURSES/MINI-PROJECTS/psa_cph/data/Form 2/Region 9 ZAMBOANGA PENINSULA')]"
      ]
     },
     "execution_count": 4,
     "metadata": {},
     "output_type": "execute_result"
    }
   ],
   "source": [
    "[x for x in HH_DIRECTORY.iterdir() if x.is_dir()]"
   ]
  },
  {
   "cell_type": "markdown",
   "metadata": {},
   "source": [
    "Population Variables of Interest (Barangay-Level):\n",
    "- Population (POP): `groupby(['REG', 'PRV', 'MUN', 'BGY'])['P2'].count()`\n",
    "- Sex Ratio (SXR): `P3==1 (male) / P3==2 (female) * 100`\n",
    "- Youth Dependency Ratio (YDR): `P5<15 / (P5>=15 AND P<65) * 100`\n",
    "- Old-Age Dependency Ratio (ODR): `P5>65 / (P5>=15 AND P<65) * 100`\n",
    "- Total Age Dependency Ratio (ADR): `YDR + ODR`\n",
    "- School Attendance Rate (SAR): `P10==1 / POP`<sup>1</sup>\n",
    "- Literacy Rate (LTR): `P11==1 / POP`<sup>1</sup>\n",
    "- Mean Years of Schooling (MYS): see this [2013 UNESCO document](https://uis.unesco.org/sites/default/files/documents/uis-methodology-for-estimation-of-mean-years-of-schooling-2013-en_0.pdf) for the formula\n",
    "- Count Overseas Workers (nOFW): `P15==1` or `P15==1`\n",
    "\n",
    "Household Variables of Interest (Barangay-Level):\n",
    "- Number of Households (nHH): `groupby(['REG', 'PRV', 'MUN', 'BGY'])['HSN'].count()`\n",
    "- Count Single House (nBT1): `sum(B1==1)`<sup>1</sup>\n",
    "- Count Duplex (nBT2): `sum(B1==2)`<sup>1</sup>\n",
    "- Count Multi-unit Residential (nBTM): `sum(B1==3)`<sup>1</sup>\n",
    "- Count Commercial/Industrial/Agricultural (Office, Factory, etc) (nBTC): `sum(B1==4)`<sup>1</sup>\n",
    "- Count Institutional Living Quarter (nILQ): `sum(B1==5)`<sup>1</sup>\n",
    "- Count Other Housing Units (nOHU): `sum(B1==6)`<sup>1</sup>\n",
    "- others...\n",
    "\n",
    "###### <sup>1</sup> do not include `X==9 (not reported)`"
   ]
  },
  {
   "cell_type": "code",
   "execution_count": null,
   "metadata": {},
   "outputs": [],
   "source": []
  }
 ],
 "metadata": {
  "kernelspec": {
   "display_name": "geopython",
   "language": "python",
   "name": "python3"
  },
  "language_info": {
   "codemirror_mode": {
    "name": "ipython",
    "version": 3
   },
   "file_extension": ".py",
   "mimetype": "text/x-python",
   "name": "python",
   "nbconvert_exporter": "python",
   "pygments_lexer": "ipython3",
   "version": "3.12.0"
  }
 },
 "nbformat": 4,
 "nbformat_minor": 2
}
