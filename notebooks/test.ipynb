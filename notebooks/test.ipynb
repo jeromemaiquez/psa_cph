{
 "cells": [
  {
   "cell_type": "code",
   "execution_count": 1,
   "metadata": {},
   "outputs": [],
   "source": [
    "import pandas as pd\n",
    "import numpy as np\n",
    "import geopandas as gpd\n",
    "\n",
    "import pathlib as plb"
   ]
  },
  {
   "cell_type": "code",
   "execution_count": 3,
   "metadata": {},
   "outputs": [],
   "source": [
    "WORK_DIRECTORY = plb.Path().resolve()\n",
    "DATA_DIRECTORY = WORK_DIRECTORY.parent / \"data\"\n",
    "HH_DIRECTORY = DATA_DIRECTORY / \"Form 2\""
   ]
  },
  {
   "cell_type": "code",
   "execution_count": 4,
   "metadata": {},
   "outputs": [
    {
     "data": {
      "text/plain": [
       "[WindowsPath('D:/WORK/ONLINE COURSES/MINI-PROJECTS/psa_cph/data/Form 2/Region 1 ILOCOS'),\n",
       " WindowsPath('D:/WORK/ONLINE COURSES/MINI-PROJECTS/psa_cph/data/Form 2/Region 10 NORTHERN MINDANAO'),\n",
       " WindowsPath('D:/WORK/ONLINE COURSES/MINI-PROJECTS/psa_cph/data/Form 2/Region 11 DAVAO'),\n",
       " WindowsPath('D:/WORK/ONLINE COURSES/MINI-PROJECTS/psa_cph/data/Form 2/Region 12 SOCCSKSARGEN'),\n",
       " WindowsPath('D:/WORK/ONLINE COURSES/MINI-PROJECTS/psa_cph/data/Form 2/Region 13 NCR'),\n",
       " WindowsPath('D:/WORK/ONLINE COURSES/MINI-PROJECTS/psa_cph/data/Form 2/Region 14 CAR'),\n",
       " WindowsPath('D:/WORK/ONLINE COURSES/MINI-PROJECTS/psa_cph/data/Form 2/Region 15 ARMM'),\n",
       " WindowsPath('D:/WORK/ONLINE COURSES/MINI-PROJECTS/psa_cph/data/Form 2/Region 16 CARAGA'),\n",
       " WindowsPath('D:/WORK/ONLINE COURSES/MINI-PROJECTS/psa_cph/data/Form 2/Region 2 CAGAYAN VALLEY'),\n",
       " WindowsPath('D:/WORK/ONLINE COURSES/MINI-PROJECTS/psa_cph/data/Form 2/Region 3 CENTRAL LUZON'),\n",
       " WindowsPath('D:/WORK/ONLINE COURSES/MINI-PROJECTS/psa_cph/data/Form 2/Region 4A CALABARZON'),\n",
       " WindowsPath('D:/WORK/ONLINE COURSES/MINI-PROJECTS/psa_cph/data/Form 2/Region 4B MIMAROPA'),\n",
       " WindowsPath('D:/WORK/ONLINE COURSES/MINI-PROJECTS/psa_cph/data/Form 2/Region 5 BICOL'),\n",
       " WindowsPath('D:/WORK/ONLINE COURSES/MINI-PROJECTS/psa_cph/data/Form 2/Region 6 WESTERN VISAYAS'),\n",
       " WindowsPath('D:/WORK/ONLINE COURSES/MINI-PROJECTS/psa_cph/data/Form 2/Region 7 CENTRAL VISAYAS'),\n",
       " WindowsPath('D:/WORK/ONLINE COURSES/MINI-PROJECTS/psa_cph/data/Form 2/Region 8 EASTERN VISAYAS'),\n",
       " WindowsPath('D:/WORK/ONLINE COURSES/MINI-PROJECTS/psa_cph/data/Form 2/Region 9 ZAMBOANGA PENINSULA')]"
      ]
     },
     "execution_count": 4,
     "metadata": {},
     "output_type": "execute_result"
    }
   ],
   "source": [
    "[x for x in HH_DIRECTORY.iterdir() if x.is_dir()]"
   ]
  },
  {
   "cell_type": "markdown",
   "metadata": {},
   "source": [
    "Population Variables of Interest (Barangay-Level):\n",
    "- Population (nPOP): `groupby(['REG', 'PRV', 'MUN', 'BGY'])['P2'].count()`\n",
    "- Sex Ratio (rSX): `P3==1 (male) / P3==2 (female) * 100`\n",
    "- Youth Dependency Ratio (rYD): `P5<15 / (P5>=15 AND P<65) * 100`\n",
    "- Old-Age Dependency Ratio (rOD): `P5>65 / (P5>=15 AND P<65) * 100`\n",
    "- Total Age Dependency Ratio (rAD): `YDR + ODR`\n",
    "- School Attendance Rate (rSA): `P10==1 / nPOP`<sup>1</sup>\n",
    "- Literacy Rate (rLT): `P11==1 / nPOP`<sup>1</sup>\n",
    "- Mean Years of Schooling (mYS): see this [2013 UNESCO document](https://uis.unesco.org/sites/default/files/documents/uis-methodology-for-estimation-of-mean-years-of-schooling-2013-en_0.pdf) for the formula\n",
    "- Overseas Workers per 1,000 People (ptOFW): `P15==1 / nPOP * 1_000`\n",
    "\n",
    "Household Variables of Interest (Barangay-Level):\n",
    "- Number of Households (nHH): `groupby(['REG', 'PRV', 'MUN', 'BGY'])['HSN'].count()`\n",
    "- Building Type:\n",
    "    - Percent Single House (pcBT1): `B1==1 / nHH`<sup>1</sup>\n",
    "    - Percent Duplex (pcBT2): `B1==2 / nHH`<sup>1</sup>\n",
    "    - Percent Multi-unit Residential (pcBTM): `B1==3 / nHH`<sup>1</sup>\n",
    "    - Percent Commercial/Industrial/Agricultural (Office, Factory, etc) (pcBTC): `B1==4 / nHH`<sup>1</sup>\n",
    "    - Percent Institutional Living Quarter (pcILQ): `B1==5 / nHH`<sup>1</sup>\n",
    "    - Percent Other Housing Units (pcOHU): `B1==6 / nHH`<sup>1</sup>\n",
    "- Construction Material of Roof:\n",
    "    - Percent Galvanized Iron/Aluminum (pcRMI): `B2==1 / nHH`<sup>1</sup>\n",
    "    - Percent Concrete/Clay Tile (pcRMC): `B2==2 / nHH`<sup>1</sup>\n",
    "    - Percent Half Galvanized Iron and Half Concrete (pcRMH): `B2==3 / nHH`<sup>1</sup>\n",
    "    - Percent Bamboo/Cogon/Nipa/Anahaw (pcRML): `B2==4 / nHH`<sup>1</sup>\n",
    "    - Percent Asbestos (pcRMA): `B2==5 / nHH`<sup>1</sup>\n",
    "    - Percent Makeshift/Salvaged/Improvised Materials (pcRMS): `B2==6 / nHH`<sup>1</sup>\n",
    "    - Percent Trapal (pcRMT): `B2==7 / nHH`<sup>1</sup>\n",
    "    - Percent Others (pcRM0): `B2==8 / nHH`<sup>1</sup>\n",
    "- Construction Material of Outer Walls:\n",
    "    - Percent Concrete/Brick/Stone (pcOWC): `B3==1 / nHH`<sup>2</sup>\n",
    "    - Percent Wood (pcOWW): `B3==2 / nHH`<sup>2</sup>\n",
    "    - Percent Half Concrete/Brick/Stone and Half Wood (pcOWH): `B3==3 / nHH`<sup>2</sup>\n",
    "    - Percent Galvanized Iron/Aluminum (pcOWI): `B3==4 / nHH`<sup>2</sup>\n",
    "    - Percent Bamboo/Sawali/Cogon/Nipa (pcOWL): `B3==5 / nHH`<sup>2</sup>\n",
    "    - Percent Asbestos (pcOWA): `B3==6 / nHH`<sup>2</sup>\n",
    "    - Percent Glass (pcOWG): `B3==7 / nHH`<sup>2</sup>\n",
    "    - Percent Makeshift/Salvaged/Improvised Materials (pcOWS): `B3==8 / nHH`<sup>2</sup>\n",
    "    - Percent Trapal (pcOWT): `B3==9 / nHH`<sup>2</sup>\n",
    "    - Percent Others (pcOW0): `B2==10 / nHH`<sup>2</sup>\n",
    "    - Percent No Walls (pcOW_): `B2==11 / nHH`<sup>2</sup>\n",
    "- Fuel for Lighting:\n",
    "    - Percent Electricity (pcFLE): `H1==1 / nHH`<sup>1</sup>\n",
    "    - Percent Kerosene (pcFLK): `H1==2 / nHH`<sup>1</sup>\n",
    "    - Percent Liquefied Petroleum Gas (pcFLG): `H1==3 / nHH`<sup>1</sup>\n",
    "    - Percent Oil (Vegetable, Animal, and Others) (pcFLO): `H1==4 / nHH`<sup>1</sup>\n",
    "    - Percent Solar Panel (pcFLSp): `H1==5 / nHH`<sup>1</sup>\n",
    "    - Percent Solar Lamp (pcFLSl): `H1==6 / nHH`<sup>1</sup>\n",
    "    - Percent Others (pcFL0): `H1==7 / nHH`<sup>1</sup>\n",
    "    - Percent None (pcFL_): `H1==0 / nHH`<sup>1</sup>\n",
    "- Source of Drinking Water Supply:\n",
    "    - Percent Own Use Faucet, Community Water System (pcDWFo): `H2==1 / nHH`<sup>2</sup>\n",
    "    - Percent Shared Faucet, Community Water System (pcDWFs): `H2==2 / nHH`<sup>2</sup>\n",
    "    - Percent Own Use, Tubed/Piped Deep Well (pcDWDo): `H2==3 / nHH`<sup>2</sup>\n",
    "    - Percent Shared, Tubed/Piped Deep Well (pcDWDs): `H2==4 / nHH`<sup>2</sup>\n",
    "    - Percent Tubed/Piped Shallow Well (pcDWS): `H2==5 / nHH`<sup>2</sup>\n",
    "    - Percent Dug Well (pcDWG): `H2==6 / nHH`<sup>2</sup>\n",
    "    - Percent Protected Spring (pcDWSp): `H2==7 / nHH`<sup>2</sup>\n",
    "    - Percent Unprotected Spring (pcDWSu): `H2==8 / nHH`<sup>2</sup>\n",
    "    - Percent Lake/River/Rain (pcDWL): `H2==9 / nHH`<sup>2</sup>\n",
    "    - Percent Peddler (pcDWP): `H2==10 / nHH`<sup>2</sup>\n",
    "    - Percent Bottled Water (pcDWB): `H2==11 / nHH`<sup>2</sup>\n",
    "    - Percent Others (pcDW0): `H2==12 / nHH`<sup>2</sup>\n",
    "- Source of Cooking Water Supply:\n",
    "    - Percent Own Use Faucet, Community Water System (pcKWFo): `H3==1 / nHH`<sup>2</sup>\n",
    "    - Percent Shared Faucet, Community Water System (pcKWFs): `H3==2 / nHH`<sup>2</sup>\n",
    "    - Percent Own Use, Tubed/Piped Deep Well (pcKWDo): `H3==3 / nHH`<sup>2</sup>\n",
    "    - Percent Shared, Tubed/Piped Deep Well (pcKWDs): `H3==4 / nHH`<sup>2</sup>\n",
    "    - Percent Tubed/Piped Shallow Well (pcKWS): `H3==5 / nHH`<sup>2</sup>\n",
    "    - Percent Dug Well (pcKWG): `H3==6 / nHH`<sup>2</sup>\n",
    "    - Percent Protected Spring (pcKWSp): `H3==7 / nHH`<sup>2</sup>\n",
    "    - Percent Unprotected Spring (pcKWSu): `H3==8 / nHH`<sup>2</sup>\n",
    "    - Percent Lake/River/Rain (pcKWL): `H3==9 / nHH`<sup>2</sup>\n",
    "    - Percent Peddler (pcKWP): `H3==10 / nHH`<sup>2</sup>\n",
    "    - Percent Bottled Water (pcKWB): `H3==11 / nHH`<sup>2</sup>\n",
    "    - Percent Others (pcKW0): `H3==12 / nHH`<sup>2</sup>\n",
    "- Tenure Status of Housing Unit/Lot:\n",
    "    - Percent Own or Owner-Like Possession of House and Lot (pcHLo): `H4==1 / nHH`<sup>1</sup>\n",
    "    - Percent Rent House/Room, including Lot (pcHLr): `H4==1 / nHH`<sup>1</sup>\n",
    "    - Percent Own House, Rent Lot (pcHLh): `H4==2 / nHH`<sup>1</sup>\n",
    "    - Percent Own House, Rent-Free Lot with Consent of Owner (pcHLvc): `H4==3 / nHH`<sup>1</sup>\n",
    "    - Percent Own House, Rent-Free Lot without Consent of Owner (pcHLvw): `H4==4 / nHH`<sup>1</sup>\n",
    "    - Percent Rent-free House and Lot with Consent of Owner (pcHLfc): `H4==5 / nHH`<sup>1</sup>\n",
    "    - Percent Rent-free House and Lot without Consent of Owner (pcHLfw): `H4==6 / nHH`<sup>1</sup>\n",
    "    - Percent Not Applicable (pcHLn): `H4==1 / nHH`<sup>1</sup>\n",
    "    \n",
    "\n",
    "###### <sup>1</sup> do not include `X==9 (not reported)`\n",
    "###### <sup>2</sup> do not include `X==99 (not reported)`"
   ]
  },
  {
   "cell_type": "code",
   "execution_count": null,
   "metadata": {},
   "outputs": [],
   "source": []
  }
 ],
 "metadata": {
  "kernelspec": {
   "display_name": "geopython",
   "language": "python",
   "name": "python3"
  },
  "language_info": {
   "codemirror_mode": {
    "name": "ipython",
    "version": 3
   },
   "file_extension": ".py",
   "mimetype": "text/x-python",
   "name": "python",
   "nbconvert_exporter": "python",
   "pygments_lexer": "ipython3",
   "version": "3.12.0"
  }
 },
 "nbformat": 4,
 "nbformat_minor": 2
}
